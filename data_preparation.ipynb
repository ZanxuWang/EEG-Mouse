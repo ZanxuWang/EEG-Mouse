{
 "cells": [
  {
   "cell_type": "code",
   "execution_count": 6,
   "id": "e7602a1a",
   "metadata": {},
   "outputs": [],
   "source": [
    "import os\n",
    "import numpy as np\n",
    "import pandas as pd\n",
    "import scipy.io\n",
    "from scipy.signal import resample\n",
    "import matplotlib.pyplot as plt\n",
    "from tqdm.notebook import tqdm"
   ]
  },
  {
   "cell_type": "code",
   "execution_count": null,
   "id": "bd69d4dc",
   "metadata": {},
   "outputs": [],
   "source": [
    "# def load_mat(matfile):\n",
    "#     m = scipy.io.loadmat(matfile)\n",
    "#     feeg = m['specDat'][0]['fEEG'][0]\n",
    "#     time = feeg[0]      \n",
    "#     eeg  = feeg[1].astype(float)\n",
    "#     sr   = 1.0 / np.diff(time[:2])[0]\n",
    "#     events = m['szEvents']   # [idx, start_s, end_s, dur_s]\n",
    "#     return eeg, sr, events\n",
    "\n",
    "# def to_idx(t, sr):\n",
    "#     return int(round(t * sr))\n",
    "\n",
    "# def sliding_windows(arr, win_len):\n",
    "#     n = len(arr)\n",
    "#     count = n // win_len\n",
    "#     return [arr[i*win_len:(i+1)*win_len] for i in range(count)]"
   ]
  },
  {
   "cell_type": "code",
   "execution_count": null,
   "id": "002f48a7",
   "metadata": {},
   "outputs": [],
   "source": [
    "# def process_eeg_data(matfile, window_sec=10.0, resample_hz=None, train_ratio=0.8):\n",
    "#     eeg, sr, events = load_mat(matfile)\n",
    "    \n",
    "#     # optional resampling\n",
    "#     if resample_hz:\n",
    "#         new_len = int(len(eeg) * resample_hz / sr)\n",
    "#         eeg = resample(eeg, new_len)\n",
    "#         sr = resample_hz\n",
    "\n",
    "#     W = int(round(window_sec * sr))\n",
    "\n",
    "#     # build interictal intervals\n",
    "#     seiz = sorted((to_idx(s,sr), to_idx(e,sr)) for _, s,e,_ in events)\n",
    "#     inter = []\n",
    "#     last = 0\n",
    "#     for s,e in seiz:\n",
    "#         if s - last >= W:\n",
    "#             inter.append((last, s))\n",
    "#         last = e\n",
    "#     if len(eeg) - last >= W:\n",
    "#         inter.append((last, len(eeg)))\n",
    "\n",
    "#     # Windows for inter-ictal periods\n",
    "#     inter_wins = []\n",
    "#     for a,b in inter:\n",
    "#         inter_wins += sliding_windows(eeg[a:b], W)\n",
    "    \n",
    "#     # Windows with seizure events at the END\n",
    "#     seiz_wins = []\n",
    "#     onset_times = []  # Store onset times relative to window start\n",
    "    \n",
    "#     for s,e in seiz:\n",
    "#         # Check if seizure is long enough to capture a full window\n",
    "#         seizure_duration = e - s\n",
    "        \n",
    "#         if e >= W:\n",
    "#             # Include window ending at seizure end time (e)\n",
    "#             window_start = e - W\n",
    "#             segment = eeg[window_start:e]\n",
    "            \n",
    "#             # Calculate onset time relative to window start (in samples)\n",
    "#             if window_start <= s:  # seizure starts within the window\n",
    "#                 onset_idx = s - window_start\n",
    "#                 onset_time = onset_idx / sr  # convert to seconds\n",
    "#                 onset_times.append(onset_time)\n",
    "#             else:  # window starts after seizure onset\n",
    "#                 onset_times.append(0)  # seizure starts before window\n",
    "                \n",
    "#             seiz_wins.append(segment)\n",
    "    \n",
    "#     # Calculate average onset time within window\n",
    "#     avg_onset_time = np.mean(onset_times) if onset_times else 0\n",
    "#     print(f\"Average seizure onset time within window: {avg_onset_time:.2f} seconds\")\n",
    "    \n",
    "#     # balance: down-sample interictal to match seiz count\n",
    "#     N = min(len(inter_wins), len(seiz_wins))\n",
    "#     np.random.shuffle(inter_wins)\n",
    "#     inter_wins = inter_wins[:N]\n",
    "#     seiz_wins = seiz_wins[:N]\n",
    "    \n",
    "#     # Create labels for each window (0 for inter-ictal, 1 for seizure)\n",
    "#     inter_labels = np.zeros(len(inter_wins))\n",
    "#     seiz_labels = np.ones(len(seiz_wins))\n",
    "    \n",
    "#     # Combine windows and labels\n",
    "#     all_wins = np.array(inter_wins + seiz_wins)\n",
    "#     all_labels = np.concatenate([inter_labels, seiz_labels])\n",
    "    \n",
    "#     # Create a single indexed array for shuffling\n",
    "#     indices = np.arange(len(all_wins))\n",
    "#     np.random.shuffle(indices)\n",
    "    \n",
    "#     # Apply the shuffling\n",
    "#     all_wins = all_wins[indices]\n",
    "#     all_labels = all_labels[indices]\n",
    "    \n",
    "#     # Split into train and test\n",
    "#     cut = int(train_ratio * len(all_wins))\n",
    "#     train_wins, test_wins = all_wins[:cut], all_wins[cut:]\n",
    "#     train_labels, test_labels = all_labels[:cut], all_labels[cut:]\n",
    "    \n",
    "#     # Save data\n",
    "#     os.makedirs('data', exist_ok=True)\n",
    "#     pd.DataFrame(train_wins).to_csv('data/train.csv', index=False, header=False)\n",
    "#     pd.DataFrame(test_wins).to_csv('data/test.csv', index=False, header=False)\n",
    "    \n",
    "#     # Save labels separately\n",
    "#     pd.DataFrame(train_labels).to_csv('data/train_labels.csv', index=False, header=False)\n",
    "#     pd.DataFrame(test_labels).to_csv('data/test_labels.csv', index=False, header=False)\n",
    "    \n",
    "#     print(f\"train: {len(train_wins)} windows, test: {len(test_wins)} windows\")\n",
    "#     print(f\"Seizure windows: {len(seiz_wins)}, Inter-ictal windows: {len(inter_wins)}\")\n",
    "    \n",
    "#     return {\n",
    "#         'train_wins': train_wins, \n",
    "#         'test_wins': test_wins,\n",
    "#         'train_labels': train_labels,\n",
    "#         'test_labels': test_labels,\n",
    "#         'sr': sr,\n",
    "#         'window_sec': window_sec,\n",
    "#         'avg_onset_time': avg_onset_time  # Return the average onset time\n",
    "#     }"
   ]
  },
  {
   "cell_type": "code",
   "execution_count": null,
   "id": "ae2e7414",
   "metadata": {},
   "outputs": [],
   "source": [
    "# def visualize_eeg_data(data_dict):\n",
    "#     \"\"\"\n",
    "#     Create visualizations comparing inter-ictal vs seizure windows\n",
    "#     with clear indication of the average seizure onset time\n",
    "#     \"\"\"\n",
    "#     train_wins = data_dict['train_wins']\n",
    "#     test_wins = data_dict['test_wins']\n",
    "#     train_labels = data_dict['train_labels']\n",
    "#     test_labels = data_dict['test_labels']\n",
    "#     sr = data_dict['sr']\n",
    "#     window_sec = data_dict['window_sec']\n",
    "#     avg_onset_time = data_dict['avg_onset_time']\n",
    "    \n",
    "#     # Create time axis for plotting\n",
    "#     time_axis = np.linspace(0, window_sec, train_wins.shape[1])\n",
    "    \n",
    "#     # Separate windows by type\n",
    "#     train_inter = train_wins[train_labels == 0]\n",
    "#     train_seiz = train_wins[train_labels == 1]\n",
    "#     test_inter = test_wins[test_labels == 0]\n",
    "#     test_seiz = test_wins[test_labels == 1]\n",
    "    \n",
    "#     # Calculate average signals\n",
    "#     avg_train_inter = np.mean(train_inter, axis=0)\n",
    "#     avg_train_seiz = np.mean(train_seiz, axis=0)\n",
    "#     avg_test_inter = np.mean(test_inter, axis=0)\n",
    "#     avg_test_seiz = np.mean(test_seiz, axis=0)\n",
    "    \n",
    "#     # Calculate standard deviation for confidence intervals\n",
    "#     std_train_inter = np.std(train_inter, axis=0)\n",
    "#     std_train_seiz = np.std(train_seiz, axis=0)\n",
    "#     std_test_inter = np.std(test_inter, axis=0)\n",
    "#     std_test_seiz = np.std(test_seiz, axis=0)\n",
    "    \n",
    "#     # Plot Training Data\n",
    "#     plt.figure(figsize=(15, 10))\n",
    "    \n",
    "#     plt.subplot(2, 1, 1)\n",
    "#     plt.title('Average EEG Signal in Training Set')\n",
    "#     plt.plot(time_axis, avg_train_inter, 'b-', label='Inter-ictal (n={})'.format(len(train_inter)))\n",
    "#     plt.fill_between(time_axis, \n",
    "#                      avg_train_inter - std_train_inter, \n",
    "#                      avg_train_inter + std_train_inter, \n",
    "#                      color='b', alpha=0.2)\n",
    "    \n",
    "#     plt.plot(time_axis, avg_train_seiz, 'r-', label='Seizure (n={})'.format(len(train_seiz)))\n",
    "#     plt.fill_between(time_axis, \n",
    "#                      avg_train_seiz - std_train_seiz, \n",
    "#                      avg_train_seiz + std_train_seiz, \n",
    "#                      color='r', alpha=0.2)\n",
    "    \n",
    "#     plt.xlabel('Time (seconds)')\n",
    "#     plt.ylabel('Amplitude')\n",
    "#     plt.legend()\n",
    "#     plt.grid(True)\n",
    "    \n",
    "#     # Add annotation for seizure onset and end\n",
    "#     plt.axvline(x=avg_onset_time, color='g', linestyle='--')\n",
    "#     plt.text(avg_onset_time + 0.1, plt.ylim()[1] * 0.9, 'Avg. Seizure Onset: {:.2f}s'.format(avg_onset_time), \n",
    "#              verticalalignment='top')\n",
    "    \n",
    "#     plt.axvline(x=window_sec, color='k', linestyle='--')\n",
    "#     plt.text(window_sec - 1.5, plt.ylim()[1] * 0.8, 'Seizure End: {:.2f}s'.format(window_sec), \n",
    "#              verticalalignment='top')\n",
    "    \n",
    "#     # Add shaded region from onset to end\n",
    "#     plt.axvspan(avg_onset_time, window_sec, alpha=0.1, color='r', label='Seizure Region')\n",
    "    \n",
    "#     # Plot Testing Data\n",
    "#     plt.subplot(2, 1, 2)\n",
    "#     plt.title('Average EEG Signal in Testing Set')\n",
    "#     plt.plot(time_axis, avg_test_inter, 'b-', label='Inter-ictal (n={})'.format(len(test_inter)))\n",
    "#     plt.fill_between(time_axis, \n",
    "#                      avg_test_inter - std_test_inter, \n",
    "#                      avg_test_inter + std_test_inter, \n",
    "#                      color='b', alpha=0.2)\n",
    "    \n",
    "#     plt.plot(time_axis, avg_test_seiz, 'r-', label='Seizure (n={})'.format(len(test_seiz)))\n",
    "#     plt.fill_between(time_axis, \n",
    "#                      avg_test_seiz - std_test_seiz, \n",
    "#                      avg_test_seiz + std_test_seiz, \n",
    "#                      color='r', alpha=0.2)\n",
    "    \n",
    "#     plt.xlabel('Time (seconds)')\n",
    "#     plt.ylabel('Amplitude')\n",
    "#     plt.legend()\n",
    "#     plt.grid(True)\n",
    "    \n",
    "#     # Add annotation for seizure onset and end\n",
    "#     plt.axvline(x=avg_onset_time, color='g', linestyle='--')\n",
    "#     plt.text(avg_onset_time + 0.1, plt.ylim()[1] * 0.9, 'Avg. Seizure Onset: {:.2f}s'.format(avg_onset_time), \n",
    "#              verticalalignment='top')\n",
    "    \n",
    "#     plt.axvline(x=window_sec, color='k', linestyle='--')\n",
    "#     plt.text(window_sec - 1.5, plt.ylim()[1] * 0.8, 'Seizure End: {:.2f}s'.format(window_sec), \n",
    "#              verticalalignment='top')\n",
    "    \n",
    "#     # Add shaded region from onset to end\n",
    "#     plt.axvspan(avg_onset_time, window_sec, alpha=0.1, color='r', label='Seizure Region')\n",
    "    \n",
    "#     plt.tight_layout()\n",
    "#     plt.show()\n",
    "    \n",
    "#     # Additional visualization showing individual examples\n",
    "#     plt.figure(figsize=(15, 10))\n",
    "    \n",
    "#     # Plot 10 random examples from each class\n",
    "#     plt.subplot(2, 2, 1)\n",
    "#     plt.title('Sample Inter-ictal Windows (Training)')\n",
    "#     for i in range(min(10, len(train_inter))):\n",
    "#         plt.plot(time_axis, train_inter[i], alpha=0.5)\n",
    "#     plt.xlabel('Time (seconds)')\n",
    "#     plt.ylabel('Amplitude')\n",
    "    \n",
    "#     plt.subplot(2, 2, 2)\n",
    "#     plt.title('Sample Seizure Windows (Training)')\n",
    "#     for i in range(min(10, len(train_seiz))):\n",
    "#         plt.plot(time_axis, train_seiz[i], alpha=0.5)\n",
    "#     plt.xlabel('Time (seconds)')\n",
    "#     plt.ylabel('Amplitude')\n",
    "    \n",
    "#     # Add annotation for seizure onset and end\n",
    "#     plt.axvline(x=avg_onset_time, color='g', linestyle='--', label='Avg. Seizure Onset')\n",
    "#     plt.axvline(x=window_sec, color='k', linestyle='--', label='Seizure End')\n",
    "#     plt.axvspan(avg_onset_time, window_sec, alpha=0.1, color='r', label='Seizure Region')\n",
    "#     plt.legend()\n",
    "    \n",
    "#     plt.subplot(2, 2, 3)\n",
    "#     plt.title('Sample Inter-ictal Windows (Testing)')\n",
    "#     for i in range(min(10, len(test_inter))):\n",
    "#         plt.plot(time_axis, test_inter[i], alpha=0.5)\n",
    "#     plt.xlabel('Time (seconds)')\n",
    "#     plt.ylabel('Amplitude')\n",
    "    \n",
    "#     plt.subplot(2, 2, 4)\n",
    "#     plt.title('Sample Seizure Windows (Testing)')\n",
    "#     for i in range(min(10, len(test_seiz))):\n",
    "#         plt.plot(time_axis, test_seiz[i], alpha=0.5)\n",
    "#     plt.xlabel('Time (seconds)')\n",
    "#     plt.ylabel('Amplitude')\n",
    "    \n",
    "#     # Add annotation for seizure onset and end\n",
    "#     plt.axvline(x=avg_onset_time, color='g', linestyle='--', label='Avg. Seizure Onset')\n",
    "#     plt.axvline(x=window_sec, color='k', linestyle='--', label='Seizure End')\n",
    "#     plt.axvspan(avg_onset_time, window_sec, alpha=0.1, color='r', label='Seizure Region')\n",
    "#     plt.legend()\n",
    "    \n",
    "#     plt.tight_layout()\n",
    "#     plt.show()\n",
    "    \n",
    "#     # # Plot power spectrum comparison\n",
    "#     # plt.figure(figsize=(15, 10))\n",
    "    \n",
    "#     # # Calculate power spectrum\n",
    "#     # def power_spectrum(signals):\n",
    "#     #     n_samples = signals.shape[1]\n",
    "#     #     freqs = np.fft.rfftfreq(n_samples, d=1/sr)\n",
    "#     #     spectra = np.abs(np.fft.rfft(signals, axis=1))**2\n",
    "#     #     avg_spectrum = np.mean(spectra, axis=0)\n",
    "#     #     std_spectrum = np.std(spectra, axis=0)\n",
    "#     #     return freqs, avg_spectrum, std_spectrum\n",
    "    \n",
    "#     # # Training set power spectrum\n",
    "#     # freqs_train_inter, power_train_inter, std_train_inter = power_spectrum(train_inter)\n",
    "#     # freqs_train_seiz, power_train_seiz, std_train_seiz = power_spectrum(train_seiz)\n",
    "    \n",
    "#     # # Testing set power spectrum\n",
    "#     # freqs_test_inter, power_test_inter, std_test_inter = power_spectrum(test_inter)\n",
    "#     # freqs_test_seiz, power_test_seiz, std_test_seiz = power_spectrum(test_seiz)\n",
    "    \n",
    "#     # # Plot Training Power Spectrum\n",
    "#     # plt.subplot(2, 1, 1)\n",
    "#     # plt.title('Power Spectrum - Training Set')\n",
    "#     # plt.plot(freqs_train_inter, power_train_inter, 'b-', label='Inter-ictal')\n",
    "#     # plt.fill_between(freqs_train_inter, \n",
    "#     #                  power_train_inter - std_train_inter, \n",
    "#     #                  power_train_inter + std_train_inter, \n",
    "#     #                  color='b', alpha=0.2)\n",
    "    \n",
    "#     # plt.plot(freqs_train_seiz, power_train_seiz, 'r-', label='Seizure')\n",
    "#     # plt.fill_between(freqs_train_seiz, \n",
    "#     #                  power_train_seiz - std_train_seiz, \n",
    "#     #                  power_train_seiz + std_train_seiz, \n",
    "#     #                  color='r', alpha=0.2)\n",
    "    \n",
    "#     # plt.xlabel('Frequency (Hz)')\n",
    "#     # plt.ylabel('Power')\n",
    "#     # plt.legend()\n",
    "#     # plt.grid(True)\n",
    "#     # plt.xlim(0, min(50, sr/2))  # Limit to 0-50 Hz or Nyquist frequency\n",
    "#     # plt.yscale('log')\n",
    "    \n",
    "#     # # Plot Testing Power Spectrum\n",
    "#     # plt.subplot(2, 1, 2)\n",
    "#     # plt.title('Power Spectrum - Testing Set')\n",
    "#     # plt.plot(freqs_test_inter, power_test_inter, 'b-', label='Inter-ictal')\n",
    "#     # plt.fill_between(freqs_test_inter, \n",
    "#     #                  power_test_inter - std_test_inter, \n",
    "#     #                  power_test_inter + std_test_inter, \n",
    "#     #                  color='b', alpha=0.2)\n",
    "    \n",
    "#     # plt.plot(freqs_test_seiz, power_test_seiz, 'r-', label='Seizure')\n",
    "#     # plt.fill_between(freqs_test_seiz, \n",
    "#     #                  power_test_seiz - std_test_seiz, \n",
    "#     #                  power_test_seiz + std_test_seiz, \n",
    "#     #                  color='r', alpha=0.2)\n",
    "    \n",
    "#     # plt.xlabel('Frequency (Hz)')\n",
    "#     # plt.ylabel('Power')\n",
    "#     # plt.legend()\n",
    "#     # plt.grid(True)\n",
    "#     # plt.xlim(0, min(50, sr/2))  # Limit to 0-50 Hz or Nyquist frequency\n",
    "#     # plt.yscale('log')\n",
    "    \n",
    "#     plt.tight_layout()\n",
    "#     plt.show()"
   ]
  },
  {
   "cell_type": "code",
   "execution_count": 1,
   "id": "93d5e2f3",
   "metadata": {},
   "outputs": [],
   "source": [
    "import os\n",
    "import numpy as np\n",
    "import pandas as pd\n",
    "import scipy.io\n",
    "from scipy.signal import resample\n",
    "import matplotlib.pyplot as plt\n",
    "from tqdm import tqdm\n",
    "\n",
    "def load_mat(matfile):\n",
    "    m = scipy.io.loadmat(matfile)\n",
    "    feeg = m['specDat'][0]['fEEG'][0]\n",
    "    time = feeg[0]      \n",
    "    eeg  = feeg[1].astype(float)\n",
    "    sr   = 1.0 / np.diff(time[:2])[0]\n",
    "    events = m['szEvents']   # [idx, start_s, end_s, dur_s]\n",
    "    return eeg, sr, events\n",
    "\n",
    "def to_idx(t, sr):\n",
    "    return int(round(t * sr))\n",
    "\n",
    "def sliding_windows(arr, win_len):\n",
    "    n = len(arr)\n",
    "    count = n // win_len\n",
    "    return [arr[i*win_len:(i+1)*win_len] for i in range(count)]\n",
    "\n",
    "def visualize_eeg_data(data_dict):\n",
    "    \"\"\"Visualize sample EEG data from the processed dataset\"\"\"\n",
    "    # Plot some sample windows\n",
    "    plt.figure(figsize=(15, 10))\n",
    "    \n",
    "    # Plot a few samples from each class\n",
    "    n_samples = 3\n",
    "    for i in range(n_samples):\n",
    "        # Find indices for each class\n",
    "        seiz_indices = np.where(data_dict['train_labels'] == 1)[0]\n",
    "        inter_indices = np.where(data_dict['train_labels'] == 0)[0]\n",
    "        \n",
    "        if len(seiz_indices) > i and len(inter_indices) > i:\n",
    "            # Plot seizure sample\n",
    "            plt.subplot(2, n_samples, i+1)\n",
    "            plt.plot(data_dict['train_wins'][seiz_indices[i]])\n",
    "            plt.title(f\"Seizure window {i+1}\")\n",
    "            \n",
    "            # Plot interictal sample\n",
    "            plt.subplot(2, n_samples, n_samples+i+1)\n",
    "            plt.plot(data_dict['train_wins'][inter_indices[i]])\n",
    "            plt.title(f\"Interictal window {i+1}\")\n",
    "    \n",
    "    plt.tight_layout()\n",
    "    plt.savefig('data/sample_windows.png')\n",
    "    plt.close()\n",
    "    \n",
    "    # Plot class distribution\n",
    "    plt.figure(figsize=(10, 6))\n",
    "    train_seizure_count = np.sum(data_dict['train_labels'] == 1)\n",
    "    train_inter_count = np.sum(data_dict['train_labels'] == 0)\n",
    "    test_seizure_count = np.sum(data_dict['test_labels'] == 1)\n",
    "    test_inter_count = np.sum(data_dict['test_labels'] == 0)\n",
    "    \n",
    "    plt.bar(['Train Seizure', 'Train Interictal', 'Test Seizure', 'Test Interictal'], \n",
    "            [train_seizure_count, train_inter_count, test_seizure_count, test_inter_count])\n",
    "    plt.title('Class Distribution')\n",
    "    plt.ylabel('Count')\n",
    "    plt.savefig('data/class_distribution.png')\n",
    "    plt.close()\n",
    "\n",
    "def process_eeg_data(matfile, window_sec=10.0, resample_hz=None, train_ratio=0.8):\n",
    "    eeg, sr, events = load_mat(matfile)\n",
    "    \n",
    "    # optional resampling\n",
    "    if resample_hz:\n",
    "        new_len = int(len(eeg) * resample_hz / sr)\n",
    "        eeg = resample(eeg, new_len)\n",
    "        sr = resample_hz\n",
    "\n",
    "    W = int(round(window_sec * sr))\n",
    "\n",
    "    # build interictal intervals\n",
    "    seiz = sorted((to_idx(s,sr), to_idx(e,sr)) for _, s,e,_ in events)\n",
    "    inter = []\n",
    "    last = 0\n",
    "    for s,e in seiz:\n",
    "        if s - last >= W:\n",
    "            inter.append((last, s))\n",
    "        last = e\n",
    "    if len(eeg) - last >= W:\n",
    "        inter.append((last, len(eeg)))\n",
    "\n",
    "    # Windows for inter-ictal periods\n",
    "    inter_wins = []\n",
    "    for a,b in inter:\n",
    "        inter_wins += sliding_windows(eeg[a:b], W)\n",
    "    \n",
    "    # Windows with seizure events at the END\n",
    "    seiz_wins = []\n",
    "    onset_times = []  # Store onset times relative to window start\n",
    "    \n",
    "    for s,e in seiz:\n",
    "        # Check if seizure is long enough to capture a full window\n",
    "        seizure_duration = e - s\n",
    "        \n",
    "        if e >= W:\n",
    "            # Include window ending at seizure end time (e)\n",
    "            window_start = e - W\n",
    "            segment = eeg[window_start:e]\n",
    "            \n",
    "            # Calculate onset time relative to window start (in samples)\n",
    "            if window_start <= s:  # seizure starts within the window\n",
    "                onset_idx = s - window_start\n",
    "                onset_time = onset_idx / sr  # convert to seconds\n",
    "                onset_times.append(onset_time)\n",
    "            else:  # window starts after seizure onset\n",
    "                onset_times.append(0)  # seizure starts before window\n",
    "                \n",
    "            seiz_wins.append(segment)\n",
    "    \n",
    "    # Calculate average onset time within window\n",
    "    avg_onset_time = np.mean(onset_times) if onset_times else 0\n",
    "    print(f\"Average seizure onset time within window: {avg_onset_time:.2f} seconds\")\n",
    "    \n",
    "    # Create labels for each window (0 for inter-ictal, 1 for seizure)\n",
    "    inter_labels = np.zeros(len(inter_wins))\n",
    "    seiz_labels = np.ones(len(seiz_wins))\n",
    "    \n",
    "    return {\n",
    "        'inter_wins': inter_wins,\n",
    "        'seiz_wins': seiz_wins,\n",
    "        'inter_labels': inter_labels,\n",
    "        'seiz_labels': seiz_labels,\n",
    "        'sr': sr,\n",
    "        'window_sec': window_sec,\n",
    "        'avg_onset_time': avg_onset_time\n",
    "    }\n",
    "\n",
    "def process_multiple_files(matfiles, window_sec=5.0, resample_hz=256, train_ratio=0.8):\n",
    "    \"\"\"Process multiple mat files and combine the results\"\"\"\n",
    "    \n",
    "    all_inter_wins = []\n",
    "    all_seiz_wins = []\n",
    "    all_inter_labels = []\n",
    "    all_seiz_labels = []\n",
    "    \n",
    "    # Process each file\n",
    "    for file_path in tqdm(matfiles, desc=\"Processing files\"):\n",
    "        try:\n",
    "            result = process_eeg_data(\n",
    "                matfile=file_path,\n",
    "                window_sec=window_sec,\n",
    "                resample_hz=resample_hz,\n",
    "                train_ratio=train_ratio\n",
    "            )\n",
    "            \n",
    "            # Append results\n",
    "            all_inter_wins.extend(result['inter_wins'])\n",
    "            all_seiz_wins.extend(result['seiz_wins'])\n",
    "            all_inter_labels = np.append(all_inter_labels, result['inter_labels'])\n",
    "            all_seiz_labels = np.append(all_seiz_labels, result['seiz_labels'])\n",
    "            \n",
    "            print(f\"Processed {file_path}\")\n",
    "            print(f\"  Added {len(result['inter_wins'])} interictal windows\")\n",
    "            print(f\"  Added {len(result['seiz_wins'])} seizure windows\")\n",
    "            \n",
    "        except Exception as e:\n",
    "            print(f\"Error processing {file_path}: {str(e)}\")\n",
    "    \n",
    "    # Balance the dataset\n",
    "    n_seiz = len(all_seiz_wins)\n",
    "    n_inter = len(all_inter_wins)\n",
    "    \n",
    "    print(f\"Total before balancing - Seizure: {n_seiz}, Interictal: {n_inter}\")\n",
    "    \n",
    "   \n",
    "    if n_seiz < n_inter:\n",
    "        # Down-sample interictal windows\n",
    "        indices = np.random.choice(n_inter, n_seiz, replace=False)\n",
    "        all_inter_wins = [all_inter_wins[i] for i in indices]\n",
    "        all_inter_labels = all_inter_labels[indices]\n",
    "    elif n_inter < n_seiz:\n",
    "        # Down-sample seizure windows\n",
    "        indices = np.random.choice(n_seiz, n_inter, replace=False)\n",
    "        all_seiz_wins = [all_seiz_wins[i] for i in indices]\n",
    "        all_seiz_labels = all_seiz_labels[indices]\n",
    "    \n",
    "    # Combine windows and labels\n",
    "    all_wins = np.array(all_inter_wins + all_seiz_wins)\n",
    "    all_labels = np.concatenate([all_inter_labels, all_seiz_labels])\n",
    "    \n",
    "    # Create indices for shuffling\n",
    "    indices = np.arange(len(all_wins))\n",
    "    np.random.shuffle(indices)\n",
    "    \n",
    "    # Apply shuffling\n",
    "    all_wins = all_wins[indices]\n",
    "    all_labels = all_labels[indices]\n",
    "    \n",
    "    # Split into train and test sets\n",
    "    cut = int(train_ratio * len(all_wins))\n",
    "    train_wins = all_wins[:cut]\n",
    "    test_wins = all_wins[cut:]\n",
    "    train_labels = all_labels[:cut]\n",
    "    test_labels = all_labels[cut:]\n",
    "    \n",
    "    # Save data\n",
    "    os.makedirs('data', exist_ok=True)\n",
    "    pd.DataFrame(train_wins).to_csv('data/train.csv', index=False, header=False)\n",
    "    pd.DataFrame(test_wins).to_csv('data/test.csv', index=False, header=False)\n",
    "    \n",
    "    # Save labels\n",
    "    pd.DataFrame(train_labels).to_csv('data/train_labels.csv', index=False, header=False)\n",
    "    pd.DataFrame(test_labels).to_csv('data/test_labels.csv', index=False, header=False)\n",
    "    \n",
    "    # Print statistics\n",
    "    print(\"\\nDataset Statistics:\")\n",
    "    print(f\"Train: {len(train_wins)} windows\")\n",
    "    print(f\"Test: {len(test_wins)} windows\")\n",
    "    print(f\"Train Seizure: {np.sum(train_labels == 1)} windows\")\n",
    "    print(f\"Train Interictal: {np.sum(train_labels == 0)} windows\")\n",
    "    print(f\"Test Seizure: {np.sum(test_labels == 1)} windows\")\n",
    "    print(f\"Test Interictal: {np.sum(test_labels == 0)} windows\")\n",
    "    \n",
    "    return {\n",
    "        'train_wins': train_wins,\n",
    "        'test_wins': test_wins,\n",
    "        'train_labels': train_labels,\n",
    "        'test_labels': test_labels,\n",
    "        'sr': resample_hz,\n",
    "        'window_sec': window_sec\n",
    "    }"
   ]
  },
  {
   "cell_type": "code",
   "execution_count": 2,
   "id": "08c0ecc7",
   "metadata": {},
   "outputs": [
    {
     "name": "stderr",
     "output_type": "stream",
     "text": [
      "Processing files:   4%|▎         | 1/28 [00:02<01:10,  2.60s/it]"
     ]
    },
    {
     "name": "stdout",
     "output_type": "stream",
     "text": [
      "Average seizure onset time within window: 3.07 seconds\n",
      "Processed D:\\EEG\\Xiaofu\\RT\\M229_het_PV_RT\\EEGCamFP-190716-134143\\eeg3_m0-120.mat\n",
      "  Added 1381 interictal windows\n",
      "  Added 62 seizure windows\n"
     ]
    },
    {
     "name": "stderr",
     "output_type": "stream",
     "text": [
      "Processing files:   7%|▋         | 2/28 [00:04<00:58,  2.24s/it]"
     ]
    },
    {
     "name": "stdout",
     "output_type": "stream",
     "text": [
      "Average seizure onset time within window: 2.73 seconds\n",
      "Processed D:\\EEG\\Xiaofu\\RT\\M229_het_PV_RT\\EEGCamFP-190717-093811\\eeg3_m0-119swd.mat\n",
      "  Added 1347 interictal windows\n",
      "  Added 77 seizure windows\n"
     ]
    },
    {
     "name": "stderr",
     "output_type": "stream",
     "text": [
      "Processing files:  11%|█         | 3/28 [00:06<00:50,  2.03s/it]"
     ]
    },
    {
     "name": "stdout",
     "output_type": "stream",
     "text": [
      "Average seizure onset time within window: 2.78 seconds\n",
      "Processed D:\\EEG\\Xiaofu\\RT\\M229_het_PV_RT\\EEGCamFP-190717-121140\\eeg3_m0-119swd.mat\n",
      "  Added 1339 interictal windows\n",
      "  Added 88 seizure windows\n"
     ]
    },
    {
     "name": "stderr",
     "output_type": "stream",
     "text": [
      "Processing files:  14%|█▍        | 4/28 [00:08<00:47,  1.97s/it]"
     ]
    },
    {
     "name": "stdout",
     "output_type": "stream",
     "text": [
      "Average seizure onset time within window: 3.33 seconds\n",
      "Processed D:\\EEG\\Xiaofu\\RT\\M233_het_PV_RT\\EEGCamFP-190716-154729\\eeg3_m0-120swd.mat\n",
      "  Added 1275 interictal windows\n",
      "  Added 200 seizure windows\n"
     ]
    },
    {
     "name": "stderr",
     "output_type": "stream",
     "text": [
      "Processing files:  18%|█▊        | 5/28 [00:11<00:58,  2.55s/it]"
     ]
    },
    {
     "name": "stdout",
     "output_type": "stream",
     "text": [
      "Average seizure onset time within window: 3.35 seconds\n",
      "Processed D:\\EEG\\Xiaofu\\RT\\M233_het_PV_RT\\EEGCamFP-190719-095610\\eeg3_m0-240swd.mat\n",
      "  Added 2597 interictal windows\n",
      "  Added 337 seizure windows\n"
     ]
    },
    {
     "name": "stderr",
     "output_type": "stream",
     "text": [
      "Processing files:  21%|██▏       | 6/28 [00:13<00:49,  2.26s/it]"
     ]
    },
    {
     "name": "stdout",
     "output_type": "stream",
     "text": [
      "Average seizure onset time within window: 3.79 seconds\n",
      "Processed D:\\EEG\\Xiaofu\\RT\\M234_het_PV_RT\\EEGCamFP-190717-142155\\eeg1_m0-120.mat\n",
      "  Added 1358 interictal windows\n",
      "  Added 108 seizure windows\n"
     ]
    },
    {
     "name": "stderr",
     "output_type": "stream",
     "text": [
      "Processing files:  25%|██▌       | 7/28 [00:16<00:51,  2.45s/it]"
     ]
    },
    {
     "name": "stdout",
     "output_type": "stream",
     "text": [
      "Average seizure onset time within window: 4.06 seconds\n",
      "Processed D:\\EEG\\Xiaofu\\RT\\M237_het_PV_RT\\EEGCamFP-190722-095945\\eeg2_m0-180.mat\n",
      "  Added 2026 interictal windows\n",
      "  Added 193 seizure windows\n"
     ]
    },
    {
     "name": "stderr",
     "output_type": "stream",
     "text": [
      "Processing files:  29%|██▊       | 8/28 [00:17<00:39,  1.99s/it]"
     ]
    },
    {
     "name": "stdout",
     "output_type": "stream",
     "text": [
      "Average seizure onset time within window: 3.72 seconds\n",
      "Processed D:\\EEG\\Xiaofu\\RT\\M237_het_PV_RT\\EEGCamFP-190725-093138\\eeg2_m0-60.mat\n",
      "  Added 680 interictal windows\n",
      "  Added 51 seizure windows\n"
     ]
    },
    {
     "name": "stderr",
     "output_type": "stream",
     "text": [
      "Processing files:  32%|███▏      | 9/28 [00:19<00:41,  2.18s/it]"
     ]
    },
    {
     "name": "stdout",
     "output_type": "stream",
     "text": [
      "Average seizure onset time within window: 3.50 seconds\n",
      "Processed D:\\EEG\\Xiaofu\\RT\\M238_het_PV_RT\\EEGCamFP-190722-133936\\eeg1_m0-180bin0.5step0.2.mat\n",
      "  Added 1965 interictal windows\n",
      "  Added 245 seizure windows\n"
     ]
    },
    {
     "name": "stderr",
     "output_type": "stream",
     "text": [
      "Processing files:  36%|███▌      | 10/28 [00:22<00:41,  2.31s/it]"
     ]
    },
    {
     "name": "stdout",
     "output_type": "stream",
     "text": [
      "Average seizure onset time within window: 3.69 seconds\n",
      "Processed D:\\EEG\\Xiaofu\\RT\\M238_het_PV_RT\\EEGCamFP-190731-234746\\eeg1_m0-180.mat\n",
      "  Added 1908 interictal windows\n",
      "  Added 323 seizure windows\n"
     ]
    },
    {
     "name": "stderr",
     "output_type": "stream",
     "text": [
      "Processing files:  39%|███▉      | 11/28 [00:23<00:31,  1.87s/it]"
     ]
    },
    {
     "name": "stdout",
     "output_type": "stream",
     "text": [
      "Average seizure onset time within window: 3.63 seconds\n",
      "Processed D:\\EEG\\Xiaofu\\VPM\\M710_het_CaMKII\\EEGCamFP20210322-210323-185103\\eeg3_m0-60.mat\n",
      "  Added 693 interictal windows\n",
      "  Added 36 seizure windows\n"
     ]
    },
    {
     "name": "stderr",
     "output_type": "stream",
     "text": [
      "Processing files:  43%|████▎     | 12/28 [00:24<00:25,  1.58s/it]"
     ]
    },
    {
     "name": "stdout",
     "output_type": "stream",
     "text": [
      "Average seizure onset time within window: 3.76 seconds\n",
      "Processed D:\\EEG\\Xiaofu\\VPM\\M710_het_CaMKII\\EEGCamFP20210322-210323-205108\\eeg3_m0-59.mat\n",
      "  Added 639 interictal windows\n",
      "  Added 91 seizure windows\n"
     ]
    },
    {
     "name": "stderr",
     "output_type": "stream",
     "text": [
      "Processing files:  46%|████▋     | 13/28 [00:25<00:20,  1.37s/it]"
     ]
    },
    {
     "name": "stdout",
     "output_type": "stream",
     "text": [
      "Average seizure onset time within window: 3.74 seconds\n",
      "Processed D:\\EEG\\Xiaofu\\VPM\\M710_het_CaMKII\\EEGCamFP20210322-210324-005115\\eeg3_m0-59.mat\n",
      "  Added 660 interictal windows\n",
      "  Added 68 seizure windows\n"
     ]
    },
    {
     "name": "stderr",
     "output_type": "stream",
     "text": [
      "Processing files:  50%|█████     | 14/28 [00:26<00:17,  1.22s/it]"
     ]
    },
    {
     "name": "stdout",
     "output_type": "stream",
     "text": [
      "Average seizure onset time within window: 3.33 seconds\n",
      "Processed D:\\EEG\\Xiaofu\\VPM\\M710_het_CaMKII\\EEGCamFP20210322-210324-025115\\eeg3_m0-59.mat\n",
      "  Added 674 interictal windows\n",
      "  Added 39 seizure windows\n"
     ]
    },
    {
     "name": "stderr",
     "output_type": "stream",
     "text": [
      "Processing files:  54%|█████▎    | 15/28 [00:27<00:14,  1.12s/it]"
     ]
    },
    {
     "name": "stdout",
     "output_type": "stream",
     "text": [
      "Average seizure onset time within window: 3.59 seconds\n",
      "Processed D:\\EEG\\Xiaofu\\VPM\\M710_het_CaMKII\\EEGCamFP20210322-210324-045108\\eeg3_m0-59.mat\n",
      "  Added 671 interictal windows\n",
      "  Added 52 seizure windows\n"
     ]
    },
    {
     "name": "stderr",
     "output_type": "stream",
     "text": [
      "Processing files:  57%|█████▋    | 16/28 [00:27<00:12,  1.07s/it]"
     ]
    },
    {
     "name": "stdout",
     "output_type": "stream",
     "text": [
      "Average seizure onset time within window: 3.65 seconds\n",
      "Processed D:\\EEG\\Xiaofu\\VPM\\M711_het_CaMKII\\EEGCamFP20210322-210323-100654\\eeg3_m0-60_phot3dots.mat\n",
      "  Added 650 interictal windows\n",
      "  Added 97 seizure windows\n"
     ]
    },
    {
     "name": "stderr",
     "output_type": "stream",
     "text": [
      "Processing files:  61%|██████    | 17/28 [00:28<00:11,  1.02s/it]"
     ]
    },
    {
     "name": "stdout",
     "output_type": "stream",
     "text": [
      "Average seizure onset time within window: 3.62 seconds\n",
      "Processed D:\\EEG\\Xiaofu\\VPM\\M711_het_CaMKII\\EEGCamFP20210322-210323-113757\\eeg3_m0-60.mat\n",
      "  Added 676 interictal windows\n",
      "  Added 58 seizure windows\n"
     ]
    },
    {
     "name": "stderr",
     "output_type": "stream",
     "text": [
      "Processing files:  64%|██████▍   | 18/28 [00:29<00:09,  1.01it/s]"
     ]
    },
    {
     "name": "stdout",
     "output_type": "stream",
     "text": [
      "Average seizure onset time within window: 3.65 seconds\n",
      "Processed D:\\EEG\\Xiaofu\\VPM\\M711_het_CaMKII\\EEGCamFP20210322-210323-130857\\eeg3_m0-60.mat\n",
      "  Added 703 interictal windows\n",
      "  Added 20 seizure windows\n"
     ]
    },
    {
     "name": "stderr",
     "output_type": "stream",
     "text": [
      "Processing files:  68%|██████▊   | 19/28 [00:30<00:08,  1.04it/s]"
     ]
    },
    {
     "name": "stdout",
     "output_type": "stream",
     "text": [
      "Average seizure onset time within window: 3.58 seconds\n",
      "Processed D:\\EEG\\Xiaofu\\VPM\\M711_het_CaMKII\\EEGCamFP20210322-210323-161057\\eeg3_m0-60.mat\n",
      "  Added 678 interictal windows\n",
      "  Added 53 seizure windows\n"
     ]
    },
    {
     "name": "stderr",
     "output_type": "stream",
     "text": [
      "Processing files:  71%|███████▏  | 20/28 [00:31<00:07,  1.03it/s]"
     ]
    },
    {
     "name": "stdout",
     "output_type": "stream",
     "text": [
      "Average seizure onset time within window: 2.20 seconds\n",
      "Processed D:\\EEG\\Xiaofu\\VPM\\M1079CaMKII\\EEG_FP_Sasa-220314-084728\\eeg3_m0-60.mat\n",
      "  Added 693 interictal windows\n",
      "  Added 26 seizure windows\n"
     ]
    },
    {
     "name": "stderr",
     "output_type": "stream",
     "text": [
      "Processing files:  75%|███████▌  | 21/28 [00:32<00:06,  1.05it/s]"
     ]
    },
    {
     "name": "stdout",
     "output_type": "stream",
     "text": [
      "Average seizure onset time within window: 1.86 seconds\n",
      "Processed D:\\EEG\\Xiaofu\\VPM\\M1079CaMKII\\EEG_FP_Sasa-220314-101740\\eeg3_m0-59.mat\n",
      "  Added 636 interictal windows\n",
      "  Added 58 seizure windows\n"
     ]
    },
    {
     "name": "stderr",
     "output_type": "stream",
     "text": [
      "Processing files:  79%|███████▊  | 22/28 [00:33<00:05,  1.06it/s]"
     ]
    },
    {
     "name": "stdout",
     "output_type": "stream",
     "text": [
      "Average seizure onset time within window: 2.21 seconds\n",
      "Processed D:\\EEG\\Xiaofu\\VPM\\M1079CaMKII\\EEG_FP_Sasa-220314-114735\\eeg3_m0-59.mat\n",
      "  Added 662 interictal windows\n",
      "  Added 40 seizure windows\n"
     ]
    },
    {
     "name": "stderr",
     "output_type": "stream",
     "text": [
      "Processing files:  82%|████████▏ | 23/28 [00:34<00:04,  1.03it/s]"
     ]
    },
    {
     "name": "stdout",
     "output_type": "stream",
     "text": [
      "Average seizure onset time within window: 2.44 seconds\n",
      "Processed D:\\EEG\\Xiaofu\\VPM\\M1079CaMKII\\EEG_FP_Sasa-220314-190244\\eeg3_m0-59.5.mat\n",
      "  Added 685 interictal windows\n",
      "  Added 29 seizure windows\n"
     ]
    },
    {
     "name": "stderr",
     "output_type": "stream",
     "text": [
      "Processing files:  86%|████████▌ | 24/28 [00:35<00:03,  1.03it/s]"
     ]
    },
    {
     "name": "stdout",
     "output_type": "stream",
     "text": [
      "Average seizure onset time within window: 3.29 seconds\n",
      "Processed D:\\EEG\\Xiaofu\\VPM\\M1080CaMKII\\EEG_FP_Sasa-220315-122317\\eeg3_m0-60.mat\n",
      "  Added 577 interictal windows\n",
      "  Added 158 seizure windows\n"
     ]
    },
    {
     "name": "stderr",
     "output_type": "stream",
     "text": [
      "Processing files:  89%|████████▉ | 25/28 [00:36<00:02,  1.05it/s]"
     ]
    },
    {
     "name": "stdout",
     "output_type": "stream",
     "text": [
      "Average seizure onset time within window: 3.54 seconds\n",
      "Processed D:\\EEG\\Xiaofu\\VPM\\M1080CaMKII\\EEG_FP_Sasa-220315-142326\\eeg3_m0-59.5.mat\n",
      "  Added 615 interictal windows\n",
      "  Added 131 seizure windows\n"
     ]
    },
    {
     "name": "stderr",
     "output_type": "stream",
     "text": [
      "Processing files:  93%|█████████▎| 26/28 [00:37<00:01,  1.06it/s]"
     ]
    },
    {
     "name": "stdout",
     "output_type": "stream",
     "text": [
      "Average seizure onset time within window: 3.46 seconds\n",
      "Processed D:\\EEG\\Xiaofu\\VPM\\M1080CaMKII\\EEG_FP_Sasa-220315-162328\\eeg3_m0-59.5.mat\n",
      "  Added 681 interictal windows\n",
      "  Added 40 seizure windows\n"
     ]
    },
    {
     "name": "stderr",
     "output_type": "stream",
     "text": [
      "Processing files:  96%|█████████▋| 27/28 [00:38<00:00,  1.06it/s]"
     ]
    },
    {
     "name": "stdout",
     "output_type": "stream",
     "text": [
      "Average seizure onset time within window: 3.45 seconds\n",
      "Processed D:\\EEG\\Xiaofu\\VPM\\M1080CaMKII\\EEG_FP_Sasa-220316-062328\\eeg3_m0-59.5.mat\n",
      "  Added 690 interictal windows\n",
      "  Added 30 seizure windows\n"
     ]
    },
    {
     "name": "stderr",
     "output_type": "stream",
     "text": [
      "Processing files: 100%|██████████| 28/28 [00:39<00:00,  1.40s/it]"
     ]
    },
    {
     "name": "stdout",
     "output_type": "stream",
     "text": [
      "Average seizure onset time within window: 3.58 seconds\n",
      "Processed D:\\EEG\\Xiaofu\\VPM\\M1080CaMKII\\EEG_FP_Sasa-220316-082323\\eeg3_m0-59.5.mat\n",
      "  Added 652 interictal windows\n",
      "  Added 75 seizure windows\n",
      "Total before balancing - Seizure: 2785, Interictal: 27811\n"
     ]
    },
    {
     "name": "stderr",
     "output_type": "stream",
     "text": [
      "\n"
     ]
    },
    {
     "name": "stdout",
     "output_type": "stream",
     "text": [
      "\n",
      "Dataset Statistics:\n",
      "Train: 4456 windows\n",
      "Test: 1114 windows\n",
      "Train Seizure: 2214 windows\n",
      "Train Interictal: 2242 windows\n",
      "Test Seizure: 571 windows\n",
      "Test Interictal: 543 windows\n",
      "Processing complete! Data saved to the 'data' directory.\n"
     ]
    }
   ],
   "source": [
    "# List of mat files\n",
    "matfiles = [\n",
    "    r\"D:\\EEG\\Xiaofu\\RT\\M229_het_PV_RT\\EEGCamFP-190716-134143\\eeg3_m0-120.mat\",\n",
    "    r\"D:\\EEG\\Xiaofu\\RT\\M229_het_PV_RT\\EEGCamFP-190717-093811\\eeg3_m0-119swd.mat\",\n",
    "    r\"D:\\EEG\\Xiaofu\\RT\\M229_het_PV_RT\\EEGCamFP-190717-121140\\eeg3_m0-119swd.mat\",\n",
    "    r\"D:\\EEG\\Xiaofu\\RT\\M233_het_PV_RT\\EEGCamFP-190716-154729\\eeg3_m0-120swd.mat\",\n",
    "    r\"D:\\EEG\\Xiaofu\\RT\\M233_het_PV_RT\\EEGCamFP-190719-095610\\eeg3_m0-240swd.mat\",\n",
    "    r\"D:\\EEG\\Xiaofu\\RT\\M234_het_PV_RT\\EEGCamFP-190717-142155\\eeg1_m0-120.mat\",\n",
    "    r\"D:\\EEG\\Xiaofu\\RT\\M237_het_PV_RT\\EEGCamFP-190722-095945\\eeg2_m0-180.mat\",\n",
    "    r\"D:\\EEG\\Xiaofu\\RT\\M237_het_PV_RT\\EEGCamFP-190725-093138\\eeg2_m0-60.mat\",\n",
    "    r\"D:\\EEG\\Xiaofu\\RT\\M238_het_PV_RT\\EEGCamFP-190722-133936\\eeg1_m0-180bin0.5step0.2.mat\",\n",
    "    r\"D:\\EEG\\Xiaofu\\RT\\M238_het_PV_RT\\EEGCamFP-190731-234746\\eeg1_m0-180.mat\",\n",
    "    r\"D:\\EEG\\Xiaofu\\VPM\\M710_het_CaMKII\\EEGCamFP20210322-210323-185103\\eeg3_m0-60.mat\",\n",
    "    r\"D:\\EEG\\Xiaofu\\VPM\\M710_het_CaMKII\\EEGCamFP20210322-210323-205108\\eeg3_m0-59.mat\",\n",
    "    r\"D:\\EEG\\Xiaofu\\VPM\\M710_het_CaMKII\\EEGCamFP20210322-210324-005115\\eeg3_m0-59.mat\",\n",
    "    r\"D:\\EEG\\Xiaofu\\VPM\\M710_het_CaMKII\\EEGCamFP20210322-210324-025115\\eeg3_m0-59.mat\",\n",
    "    r\"D:\\EEG\\Xiaofu\\VPM\\M710_het_CaMKII\\EEGCamFP20210322-210324-045108\\eeg3_m0-59.mat\",\n",
    "    r\"D:\\EEG\\Xiaofu\\VPM\\M711_het_CaMKII\\EEGCamFP20210322-210323-100654\\eeg3_m0-60_phot3dots.mat\",\n",
    "    r\"D:\\EEG\\Xiaofu\\VPM\\M711_het_CaMKII\\EEGCamFP20210322-210323-113757\\eeg3_m0-60.mat\",\n",
    "    r\"D:\\EEG\\Xiaofu\\VPM\\M711_het_CaMKII\\EEGCamFP20210322-210323-130857\\eeg3_m0-60.mat\",\n",
    "    r\"D:\\EEG\\Xiaofu\\VPM\\M711_het_CaMKII\\EEGCamFP20210322-210323-161057\\eeg3_m0-60.mat\",\n",
    "    r\"D:\\EEG\\Xiaofu\\VPM\\M1079CaMKII\\EEG_FP_Sasa-220314-084728\\eeg3_m0-60.mat\",\n",
    "    r\"D:\\EEG\\Xiaofu\\VPM\\M1079CaMKII\\EEG_FP_Sasa-220314-101740\\eeg3_m0-59.mat\",\n",
    "    r\"D:\\EEG\\Xiaofu\\VPM\\M1079CaMKII\\EEG_FP_Sasa-220314-114735\\eeg3_m0-59.mat\",\n",
    "    r\"D:\\EEG\\Xiaofu\\VPM\\M1079CaMKII\\EEG_FP_Sasa-220314-190244\\eeg3_m0-59.5.mat\",\n",
    "    r\"D:\\EEG\\Xiaofu\\VPM\\M1080CaMKII\\EEG_FP_Sasa-220315-122317\\eeg3_m0-60.mat\",\n",
    "    r\"D:\\EEG\\Xiaofu\\VPM\\M1080CaMKII\\EEG_FP_Sasa-220315-142326\\eeg3_m0-59.5.mat\",\n",
    "    r\"D:\\EEG\\Xiaofu\\VPM\\M1080CaMKII\\EEG_FP_Sasa-220315-162328\\eeg3_m0-59.5.mat\",\n",
    "    r\"D:\\EEG\\Xiaofu\\VPM\\M1080CaMKII\\EEG_FP_Sasa-220316-062328\\eeg3_m0-59.5.mat\",\n",
    "    r\"D:\\EEG\\Xiaofu\\VPM\\M1080CaMKII\\EEG_FP_Sasa-220316-082323\\eeg3_m0-59.5.mat\"\n",
    "]\n",
    "\n",
    "# Process all files\n",
    "data_dict = process_multiple_files(\n",
    "    matfiles=matfiles,\n",
    "    window_sec=5.0,\n",
    "    resample_hz=256,\n",
    "    train_ratio=0.8\n",
    ")\n",
    "\n",
    "# Visualize the results\n",
    "visualize_eeg_data(data_dict)\n",
    "\n",
    "print(\"Processing complete! Data saved to the 'data' directory.\")\n",
    "\n",
    "\n",
    "\n",
    "\n",
    "\n",
    "\n",
    "\n",
    "# # Process the data\n",
    "# data_dict = process_eeg_data(\n",
    "#     matfile=matfile,\n",
    "#     window_sec=5.0,\n",
    "#     resample_hz=256,  # Set to a value if you want to resample\n",
    "#     train_ratio=0.8\n",
    "# )\n",
    "\n",
    "# # Visualize the results\n",
    "# visualize_eeg_data(data_dict)"
   ]
  },
  {
   "cell_type": "code",
   "execution_count": 3,
   "id": "1a4de103",
   "metadata": {},
   "outputs": [
    {
     "name": "stdout",
     "output_type": "stream",
     "text": [
      "Processing complete! Data saved to the 'data' directory.\n"
     ]
    }
   ],
   "source": [
    "# Visualize the results\n",
    "visualize_eeg_data(data_dict)\n",
    "\n",
    "print(\"Processing complete! Data saved to the 'data' directory.\")"
   ]
  },
  {
   "cell_type": "code",
   "execution_count": null,
   "id": "dfbc4874",
   "metadata": {},
   "outputs": [],
   "source": []
  },
  {
   "cell_type": "code",
   "execution_count": null,
   "id": "99cb454d",
   "metadata": {},
   "outputs": [],
   "source": []
  }
 ],
 "metadata": {
  "kernelspec": {
   "display_name": "EEGDiff",
   "language": "python",
   "name": "python3"
  },
  "language_info": {
   "codemirror_mode": {
    "name": "ipython",
    "version": 3
   },
   "file_extension": ".py",
   "mimetype": "text/x-python",
   "name": "python",
   "nbconvert_exporter": "python",
   "pygments_lexer": "ipython3",
   "version": "3.9.21"
  }
 },
 "nbformat": 4,
 "nbformat_minor": 5
}
